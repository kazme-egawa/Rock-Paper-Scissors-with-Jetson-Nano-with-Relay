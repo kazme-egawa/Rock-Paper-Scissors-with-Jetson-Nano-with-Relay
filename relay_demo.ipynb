{
 "cells": [
  {
   "cell_type": "markdown",
   "metadata": {},
   "source": [
    "## Machine Learning: Initialize Trained Network"
   ]
  },
  {
   "cell_type": "code",
   "execution_count": 2,
   "metadata": {},
   "outputs": [],
   "source": [
    "#PyTorchの初期化\n",
    "import torch\n",
    "import torchvision\n",
    "\n",
    "#GPIO\n",
    "import Jetson.GPIO as GPIO\n",
    "\n",
    "#ランダム関数\n",
    "import random\n",
    "\n",
    "model = torchvision.models.alexnet(pretrained=False)\n",
    "#種類を増やした場合、変更するところ\n",
    "model.classifier[6] = torch.nn.Linear(model.classifier[6].in_features, 3)\n",
    "\n",
    "#モデルの読み込み\n",
    "model.load_state_dict(torch.load('best_model.pth'))\n",
    "\n",
    "#カメラのフォーマットを学習済みモデルのフォーマットに合わせ変換\n",
    "import cv2\n",
    "import numpy as np\n",
    "\n",
    "mean = 255.0 * np.array([0.485, 0.456, 0.406])\n",
    "stdev = 255.0 * np.array([0.229, 0.224, 0.225])\n",
    "\n",
    "normalize = torchvision.transforms.Normalize(mean, stdev)\n",
    "\n",
    "def preprocess(camera_value):\n",
    "    global device, normalize\n",
    "    x = camera_value\n",
    "    x = cv2.cvtColor(x, cv2.COLOR_BGR2RGB)\n",
    "    x = x.transpose((2, 0, 1))\n",
    "    x = torch.from_numpy(x).float()\n",
    "    x = normalize(x)\n",
    "    x = x.to(device)\n",
    "    x = x[None, ...]\n",
    "    return x\n",
    "\n",
    "#カメラ画像の取得\n",
    "from jetcam.csi_camera import CSICamera\n",
    "import ipywidgets\n",
    "from IPython.display import display\n",
    "from jetcam.utils import bgr8_to_jpeg\n",
    "\n",
    "camera = CSICamera(width=224, height=224)\n",
    "image = camera.read()\n",
    "image_widget = ipywidgets.Image(format='jpeg')\n",
    "image_widget.value = bgr8_to_jpeg(image)\n",
    "\n",
    "#カメラ画像の更新\n",
    "camera.running = True\n",
    "\n",
    "def update_image(change):\n",
    "    image = change['new']\n",
    "    image_widget.value = bgr8_to_jpeg(image)\n",
    "    \n",
    "camera.observe(update_image, names='value')\n",
    "\n",
    "#GPU\n",
    "device = torch.device('cuda')\n",
    "model = model.to(device)\n"
   ]
  },
  {
   "cell_type": "markdown",
   "metadata": {},
   "source": [
    "## Machine Learning: Deduction using the trained network"
   ]
  },
  {
   "cell_type": "code",
   "execution_count": 3,
   "metadata": {},
   "outputs": [],
   "source": [
    "#推論\n",
    "import torch.nn.functional as F\n",
    "import time\n",
    "import sys\n",
    "a=0\n",
    "one_blocked=0.0\n",
    "two_blocked=0.0\n",
    "three_blocked=0.0\n",
    "def update(change):\n",
    "    global blocked_slider, robot,a\n",
    "    global one_blocked, two_blocked, three_blocked\n",
    "    x = change['new'] \n",
    "    x = preprocess(x)\n",
    "    y = model(x)\n",
    "    \n",
    "    # we apply the `softmax` function to normalize the output vector so it sums to 1 (which makes it a probability distribution)\n",
    "    y = F.softmax(y, dim=1)\n",
    "    \n",
    "    one_blocked = float(y.flatten()[0])\n",
    "    two_blocked = float(y.flatten()[1])\n",
    "    three_blocked = float(y.flatten()[2])\n",
    "    if(one_blocked > two_blocked and one_blocked > three_blocked):\n",
    "        a = 0\n",
    "    elif(two_blocked > one_blocked and two_blocked > three_blocked):\n",
    "        a = 1\n",
    "    elif(three_blocked > one_blocked and three_blocked > one_blocked):\n",
    "        a = 2\n",
    "    #0　グー rock \n",
    "    #1　パー paper\n",
    "    #2　チョキ scissors   \n",
    "    \n",
    "    time.sleep(0.001)\n",
    "        \n",
    "update({'new': image})  # we call the function once to intialize\n"
   ]
  },
  {
   "cell_type": "markdown",
   "metadata": {},
   "source": [
    "## Gameplay: import libaries"
   ]
  },
  {
   "cell_type": "code",
   "execution_count": 4,
   "metadata": {},
   "outputs": [],
   "source": [
    "### import randoms\n",
    "import math\n",
    "\n",
    "### import colors\n",
    "from colorama import Fore, Back, Style\n"
   ]
  },
  {
   "cell_type": "markdown",
   "metadata": {},
   "source": [
    "## Gameplay: imports GPIO library; actual gameplay process"
   ]
  },
  {
   "cell_type": "code",
   "execution_count": 15,
   "metadata": {},
   "outputs": [
    {
     "data": {
      "application/vnd.jupyter.widget-view+json": {
       "model_id": "1e174d91dead436b944276baa99f23dd",
       "version_major": 2,
       "version_minor": 0
      },
      "text/plain": [
       "Image(value=b'\\xff\\xd8\\xff\\xe0\\x00\\x10JFIF\\x00\\x01\\x01\\x00\\x00\\x01\\x00\\x01\\x00\\x00\\xff\\xdb\\x00C\\x00\\x02\\x01\\x0…"
      ]
     },
     "metadata": {},
     "output_type": "display_data"
    },
    {
     "name": "stdout",
     "output_type": "stream",
     "text": [
      "You: Paper    \tR:0.014844, P:0.943727, S:0.041429"
     ]
    },
    {
     "name": "stderr",
     "output_type": "stream",
     "text": [
      "ERROR:root:Internal Python error in the inspect module.\n",
      "Below is the traceback from this internal error.\n",
      "\n"
     ]
    },
    {
     "name": "stdout",
     "output_type": "stream",
     "text": [
      "\u001b[0m\n",
      "Traceback (most recent call last):\n",
      "  File \"<ipython-input-15-822c922bedb0>\", line 129, in <module>\n",
      "    time.sleep( TIME_DELTA )\n",
      "KeyboardInterrupt\n",
      "\n",
      "During handling of the above exception, another exception occurred:\n",
      "\n",
      "Traceback (most recent call last):\n",
      "  File \"/usr/local/lib/python3.6/dist-packages/IPython/core/interactiveshell.py\", line 3319, in run_code\n",
      "    exec(code_obj, self.user_global_ns, self.user_ns)\n",
      "  File \"<ipython-input-15-822c922bedb0>\", line 161, in <module>\n",
      "    sys.exit(0)\n",
      "SystemExit: 0\n",
      "\n",
      "During handling of the above exception, another exception occurred:\n",
      "\n",
      "Traceback (most recent call last):\n",
      "  File \"/usr/local/lib/python3.6/dist-packages/IPython/core/ultratb.py\", line 1151, in get_records\n",
      "    return _fixed_getinnerframes(etb, number_of_lines_of_context, tb_offset)\n",
      "  File \"/usr/local/lib/python3.6/dist-packages/IPython/core/ultratb.py\", line 319, in wrapped\n",
      "    return f(*args, **kwargs)\n",
      "  File \"/usr/local/lib/python3.6/dist-packages/IPython/core/ultratb.py\", line 353, in _fixed_getinnerframes\n",
      "    records = fix_frame_records_filenames(inspect.getinnerframes(etb, context))\n",
      "  File \"/usr/lib/python3.6/inspect.py\", line 1490, in getinnerframes\n",
      "    frameinfo = (tb.tb_frame,) + getframeinfo(tb, context)\n",
      "AttributeError: 'tuple' object has no attribute 'tb_frame'\n"
     ]
    },
    {
     "ename": "SystemExit",
     "evalue": "0",
     "output_type": "error",
     "traceback": [
      "An exception has occurred, use %tb to see the full traceback.\n",
      "\u001b[0;31m---------------------------------------------------------------------------\u001b[0m",
      "\nDuring handling of the above exception, another exception occurred:\n",
      "\u001b[0;31mSystemExit\u001b[0m\u001b[0;31m:\u001b[0m 0\n"
     ]
    }
   ],
   "source": [
    "### GPIO imports\n",
    "# GPIO is mainly used for controlling lights\n",
    "# and recieving signals from a button\n",
    "#\n",
    "# > Note: GPIO needs to be set every \n",
    "#   time when the code bloack is run.\n",
    "###\n",
    "import Jetson.GPIO as GPIO\n",
    "\n",
    "# initialize\n",
    "GPIO.setwarnings(False)\n",
    "GPIO.setmode( GPIO.BCM )\n",
    "\n",
    "# pins initialize\n",
    "GREEN_PIN = 13\n",
    "YELLOW_PIN = 6\n",
    "RED_PIN = 5\n",
    "LOW = GPIO.LOW#False\n",
    "HIGH = GPIO.HIGH#True\n",
    "\n",
    "GPIO.setup( [GREEN_PIN, YELLOW_PIN, RED_PIN], GPIO.OUT )\n",
    "GPIO.output( GREEN_PIN, HIGH )\n",
    "GPIO.output( YELLOW_PIN, HIGH )\n",
    "GPIO.output( RED_PIN, HIGH )\n",
    "\n",
    "### Functions\n",
    "\n",
    "def name_of_value(val):\n",
    "    if val == 0:\n",
    "        GPIO.output( GREEN_PIN, LOW )\n",
    "        GPIO.output( YELLOW_PIN, HIGH )\n",
    "        GPIO.output( RED_PIN, HIGH )\n",
    "        return \"Rock    \";\n",
    "    if val == 1:\n",
    "        GPIO.output( GREEN_PIN, HIGH )\n",
    "        GPIO.output( YELLOW_PIN, LOW )\n",
    "        GPIO.output( RED_PIN, HIGH )\n",
    "        return \"Paper   \";\n",
    "    if val == 2:\n",
    "        GPIO.output( GREEN_PIN, HIGH )\n",
    "        GPIO.output( YELLOW_PIN, HIGH )\n",
    "        GPIO.output( RED_PIN, LOW )\n",
    "        return \"Scissor \";\n",
    "    \n",
    "### MAIN\n",
    "\n",
    "# activate hand gesture recognition\n",
    "display(image_widget)\n",
    "camera.observe(update, names='value')\n",
    "\n",
    "# main process\n",
    "TIME_DELTA = 0.1\n",
    "try:\n",
    "    while True: # forever loop\n",
    "        # Wait a little and detect hand gesture\n",
    "        time.sleep( TIME_DELTA )\n",
    "        sys.stdout.write(\"\\rYou: %s \\tR:%f, P:%f, S:%f\" % (name_of_value(sint), one_blocked, two_blocked, three_blocked))\n",
    "        sys.stdout.flush()\n",
    "        \n",
    "except KeyboardInterrupt:\n",
    "    GPIO.output( GREEN_PIN, LOW )\n",
    "    GPIO.output( YELLOW_PIN, LOW )\n",
    "    GPIO.output( RED_PIN, LOW )\n",
    "    GPIO.cleanup()\n",
    "    sys.stdout.write(Style.RESET_ALL + \"\\n\")\n",
    "    sys.exit(0)\n",
    "   "
   ]
  },
  {
   "cell_type": "code",
   "execution_count": null,
   "metadata": {},
   "outputs": [],
   "source": []
  },
  {
   "cell_type": "code",
   "execution_count": null,
   "metadata": {},
   "outputs": [],
   "source": []
  }
 ],
 "metadata": {
  "kernelspec": {
   "display_name": "Python 3",
   "language": "python",
   "name": "python3"
  },
  "language_info": {
   "codemirror_mode": {
    "name": "ipython",
    "version": 3
   },
   "file_extension": ".py",
   "mimetype": "text/x-python",
   "name": "python",
   "nbconvert_exporter": "python",
   "pygments_lexer": "ipython3",
   "version": "3.6.9"
  }
 },
 "nbformat": 4,
 "nbformat_minor": 4
}
