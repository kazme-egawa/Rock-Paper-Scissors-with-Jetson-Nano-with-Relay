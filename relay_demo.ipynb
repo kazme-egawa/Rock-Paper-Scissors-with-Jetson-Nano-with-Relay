{
 "cells": [
  {
   "cell_type": "markdown",
   "metadata": {},
   "source": [
    "## Machine Learning: Initialize Trained Network"
   ]
  },
  {
   "cell_type": "code",
   "execution_count": 1,
   "metadata": {},
   "outputs": [],
   "source": [
    "#PyTorchの初期化\n",
    "import torch\n",
    "import torchvision\n",
    "\n",
    "#GPIO\n",
    "import Jetson.GPIO as GPIO\n",
    "\n",
    "#ランダム関数\n",
    "import random\n",
    "\n",
    "model = torchvision.models.alexnet(pretrained=False)\n",
    "#種類を増やした場合、変更するところ\n",
    "model.classifier[6] = torch.nn.Linear(model.classifier[6].in_features, 3)\n",
    "\n",
    "#モデルの読み込み\n",
    "model.load_state_dict(torch.load('best_model.pth'))\n",
    "\n",
    "#カメラのフォーマットを学習済みモデルのフォーマットに合わせ変換\n",
    "import cv2\n",
    "import numpy as np\n",
    "\n",
    "mean = 255.0 * np.array([0.485, 0.456, 0.406])\n",
    "stdev = 255.0 * np.array([0.229, 0.224, 0.225])\n",
    "\n",
    "normalize = torchvision.transforms.Normalize(mean, stdev)\n",
    "\n",
    "def preprocess(camera_value):\n",
    "    global device, normalize\n",
    "    x = camera_value\n",
    "    x = cv2.cvtColor(x, cv2.COLOR_BGR2RGB)\n",
    "    x = x.transpose((2, 0, 1))\n",
    "    x = torch.from_numpy(x).float()\n",
    "    x = normalize(x)\n",
    "    x = x.to(device)\n",
    "    x = x[None, ...]\n",
    "    return x\n",
    "\n",
    "#カメラ画像の取得\n",
    "from jetcam.csi_camera import CSICamera\n",
    "import ipywidgets\n",
    "from IPython.display import display\n",
    "from jetcam.utils import bgr8_to_jpeg\n",
    "\n",
    "camera = CSICamera(width=224, height=224)\n",
    "image = camera.read()\n",
    "image_widget = ipywidgets.Image(format='jpeg')\n",
    "image_widget.value = bgr8_to_jpeg(image)\n",
    "\n",
    "#カメラ画像の更新\n",
    "camera.running = True\n",
    "\n",
    "def update_image(change):\n",
    "    image = change['new']\n",
    "    image_widget.value = bgr8_to_jpeg(image)\n",
    "    \n",
    "camera.observe(update_image, names='value')\n",
    "\n",
    "#GPU\n",
    "device = torch.device('cuda')\n",
    "model = model.to(device)\n"
   ]
  },
  {
   "cell_type": "markdown",
   "metadata": {},
   "source": [
    "## Machine Learning: Deduction using the trained network"
   ]
  },
  {
   "cell_type": "code",
   "execution_count": 2,
   "metadata": {},
   "outputs": [],
   "source": [
    "#推論\n",
    "import torch.nn.functional as F\n",
    "import time\n",
    "import sys\n",
    "a=0\n",
    "one_blocked=0.0\n",
    "two_blocked=0.0\n",
    "three_blocked=0.0\n",
    "def update(change):\n",
    "    global blocked_slider, robot,a\n",
    "    global one_blocked, two_blocked, three_blocked\n",
    "    x = change['new'] \n",
    "    x = preprocess(x)\n",
    "    y = model(x)\n",
    "    \n",
    "    # we apply the `softmax` function to normalize the output vector so it sums to 1 (which makes it a probability distribution)\n",
    "    y = F.softmax(y, dim=1)\n",
    "    \n",
    "    one_blocked = float(y.flatten()[0])\n",
    "    two_blocked = float(y.flatten()[1])\n",
    "    three_blocked = float(y.flatten()[2])\n",
    "    if(one_blocked > two_blocked and one_blocked > three_blocked):\n",
    "        a = 0\n",
    "    elif(two_blocked > one_blocked and two_blocked > three_blocked):\n",
    "        a = 1\n",
    "    elif(three_blocked > one_blocked and three_blocked > one_blocked):\n",
    "        a = 2\n",
    "    #0　グー rock \n",
    "    #1　パー paper\n",
    "    #2　チョキ scissors   \n",
    "    \n",
    "    time.sleep(0.001)\n",
    "        \n",
    "update({'new': image})  # we call the function once to intialize\n"
   ]
  },
  {
   "cell_type": "markdown",
   "metadata": {},
   "source": [
    "## Gameplay: import libaries"
   ]
  },
  {
   "cell_type": "code",
   "execution_count": 3,
   "metadata": {},
   "outputs": [],
   "source": [
    "### import randoms\n",
    "import math\n",
    "\n",
    "### import colors\n",
    "from colorama import Fore, Back, Style\n"
   ]
  },
  {
   "cell_type": "markdown",
   "metadata": {},
   "source": [
    "## Gameplay: imports GPIO library; actual gameplay process"
   ]
  },
  {
   "cell_type": "code",
   "execution_count": 9,
   "metadata": {},
   "outputs": [
    {
     "data": {
      "application/vnd.jupyter.widget-view+json": {
       "model_id": "d5e6566439aa4d6f8193823284ac8636",
       "version_major": 2,
       "version_minor": 0
      },
      "text/plain": [
       "Image(value=b'\\xff\\xd8\\xff\\xe0\\x00\\x10JFIF\\x00\\x01\\x01\\x00\\x00\\x01\\x00\\x01\\x00\\x00\\xff\\xdb\\x00C\\x00\\x02\\x01\\x0…"
      ]
     },
     "metadata": {},
     "output_type": "display_data"
    },
    {
     "name": "stdout",
     "output_type": "stream",
     "text": [
      "You: Paper    \tR:0.221821, P:0.644641, S:0.133538"
     ]
    },
    {
     "ename": "NameError",
     "evalue": "name 'HOGH' is not defined",
     "output_type": "error",
     "traceback": [
      "\u001b[0;31m---------------------------------------------------------------------------\u001b[0m",
      "\u001b[0;31mKeyboardInterrupt\u001b[0m                         Traceback (most recent call last)",
      "\u001b[0;32m<ipython-input-9-c79ee7912d8d>\u001b[0m in \u001b[0;36m<module>\u001b[0;34m\u001b[0m\n\u001b[1;32m     57\u001b[0m         \u001b[0;31m# Wait a little and detect hand gesture\u001b[0m\u001b[0;34m\u001b[0m\u001b[0;34m\u001b[0m\u001b[0;34m\u001b[0m\u001b[0m\n\u001b[0;32m---> 58\u001b[0;31m         \u001b[0mtime\u001b[0m\u001b[0;34m.\u001b[0m\u001b[0msleep\u001b[0m\u001b[0;34m(\u001b[0m \u001b[0mTIME_DELTA\u001b[0m \u001b[0;34m)\u001b[0m\u001b[0;34m\u001b[0m\u001b[0;34m\u001b[0m\u001b[0m\n\u001b[0m\u001b[1;32m     59\u001b[0m         \u001b[0msint\u001b[0m \u001b[0;34m=\u001b[0m \u001b[0ma\u001b[0m\u001b[0;34m;\u001b[0m\u001b[0;34m\u001b[0m\u001b[0;34m\u001b[0m\u001b[0m\n",
      "\u001b[0;31mKeyboardInterrupt\u001b[0m: ",
      "\nDuring handling of the above exception, another exception occurred:\n",
      "\u001b[0;31mNameError\u001b[0m                                 Traceback (most recent call last)",
      "\u001b[0;32m<ipython-input-9-c79ee7912d8d>\u001b[0m in \u001b[0;36m<module>\u001b[0;34m\u001b[0m\n\u001b[1;32m     63\u001b[0m \u001b[0;32mexcept\u001b[0m \u001b[0mKeyboardInterrupt\u001b[0m\u001b[0;34m:\u001b[0m\u001b[0;34m\u001b[0m\u001b[0;34m\u001b[0m\u001b[0m\n\u001b[1;32m     64\u001b[0m     \u001b[0mGPIO\u001b[0m\u001b[0;34m.\u001b[0m\u001b[0moutput\u001b[0m\u001b[0;34m(\u001b[0m \u001b[0mVCC_PIN\u001b[0m\u001b[0;34m,\u001b[0m \u001b[0mHIGH\u001b[0m \u001b[0;34m)\u001b[0m\u001b[0;34m\u001b[0m\u001b[0;34m\u001b[0m\u001b[0m\n\u001b[0;32m---> 65\u001b[0;31m     \u001b[0mGPIO\u001b[0m\u001b[0;34m.\u001b[0m\u001b[0moutput\u001b[0m\u001b[0;34m(\u001b[0m \u001b[0mGREEN_PIN\u001b[0m\u001b[0;34m,\u001b[0m \u001b[0mHOGH\u001b[0m \u001b[0;34m)\u001b[0m\u001b[0;34m\u001b[0m\u001b[0;34m\u001b[0m\u001b[0m\n\u001b[0m\u001b[1;32m     66\u001b[0m     \u001b[0mGPIO\u001b[0m\u001b[0;34m.\u001b[0m\u001b[0moutput\u001b[0m\u001b[0;34m(\u001b[0m \u001b[0mYELLOW_PIN\u001b[0m\u001b[0;34m,\u001b[0m \u001b[0mHIGH\u001b[0m \u001b[0;34m)\u001b[0m\u001b[0;34m\u001b[0m\u001b[0;34m\u001b[0m\u001b[0m\n\u001b[1;32m     67\u001b[0m     \u001b[0mGPIO\u001b[0m\u001b[0;34m.\u001b[0m\u001b[0moutput\u001b[0m\u001b[0;34m(\u001b[0m \u001b[0mRED_PIN\u001b[0m\u001b[0;34m,\u001b[0m \u001b[0mHIGH\u001b[0m \u001b[0;34m)\u001b[0m\u001b[0;34m\u001b[0m\u001b[0;34m\u001b[0m\u001b[0m\n",
      "\u001b[0;31mNameError\u001b[0m: name 'HOGH' is not defined"
     ]
    }
   ],
   "source": [
    "### GPIO imports\n",
    "# GPIO is mainly used for controlling lights\n",
    "# and recieving signals from a button\n",
    "#\n",
    "# > Note: GPIO needs to be set every \n",
    "#   time when the code bloack is run.\n",
    "###\n",
    "import Jetson.GPIO as GPIO\n",
    "\n",
    "# initialize\n",
    "GPIO.setwarnings(False)\n",
    "GPIO.setmode( GPIO.BCM )\n",
    "\n",
    "# pins initialize\n",
    "VCC_PIN = 6\n",
    "GREEN_PIN = 26\n",
    "YELLOW_PIN = 19\n",
    "RED_PIN = 13\n",
    "LOW = GPIO.LOW#False\n",
    "HIGH = GPIO.HIGH#True\n",
    "\n",
    "GPIO.setup( [VCC_PIN, GREEN_PIN, YELLOW_PIN, RED_PIN], GPIO.OUT )\n",
    "GPIO.output( GREEN_PIN, HIGH )\n",
    "GPIO.output( YELLOW_PIN, HIGH )\n",
    "GPIO.output( RED_PIN, HIGH )\n",
    "GPIO.output( VCC_PIN, LOW )\n",
    "\n",
    "### Functions\n",
    "\n",
    "def name_of_value(val):\n",
    "    if val == 0:\n",
    "        GPIO.output( GREEN_PIN, LOW )\n",
    "        GPIO.output( YELLOW_PIN, HIGH )\n",
    "        GPIO.output( RED_PIN, HIGH )\n",
    "        return \"Rock    \";\n",
    "    if val == 1:\n",
    "        GPIO.output( GREEN_PIN, HIGH )\n",
    "        GPIO.output( YELLOW_PIN, HIGH )\n",
    "        GPIO.output( RED_PIN, LOW )\n",
    "        return \"Paper   \";\n",
    "    if val == 2:\n",
    "        GPIO.output( GREEN_PIN, HIGH )\n",
    "        GPIO.output( YELLOW_PIN, LOW )\n",
    "        GPIO.output( RED_PIN, HIGH )\n",
    "        return \"Scissor \";\n",
    "    \n",
    "### MAIN\n",
    "\n",
    "# activate hand gesture recognition\n",
    "display(image_widget)\n",
    "camera.observe(update, names='value')\n",
    "\n",
    "# main process\n",
    "TIME_DELTA = 1\n",
    "try:\n",
    "    while True: # forever loop\n",
    "        # Wait a little and detect hand gesture\n",
    "        time.sleep( TIME_DELTA )\n",
    "        sint = a;\n",
    "        sys.stdout.write(\"\\rYou: %s \\tR:%f, P:%f, S:%f\" % (name_of_value(sint), one_blocked, two_blocked, three_blocked))\n",
    "        sys.stdout.flush()\n",
    "        \n",
    "except KeyboardInterrupt:\n",
    "    GPIO.output( VCC_PIN, HIGH )\n",
    "    GPIO.output( GREEN_PIN, HOGH )\n",
    "    GPIO.output( YELLOW_PIN, HIGH )\n",
    "    GPIO.output( RED_PIN, HIGH )\n",
    "    GPIO.cleanup()\n",
    "    sys.stdout.write(Style.RESET_ALL + \"\\n\")\n",
    "    sys.exit(0)\n",
    "   "
   ]
  },
  {
   "cell_type": "code",
   "execution_count": null,
   "metadata": {},
   "outputs": [],
   "source": []
  },
  {
   "cell_type": "code",
   "execution_count": null,
   "metadata": {},
   "outputs": [],
   "source": []
  }
 ],
 "metadata": {
  "kernelspec": {
   "display_name": "Python 3",
   "language": "python",
   "name": "python3"
  },
  "language_info": {
   "codemirror_mode": {
    "name": "ipython",
    "version": 3
   },
   "file_extension": ".py",
   "mimetype": "text/x-python",
   "name": "python",
   "nbconvert_exporter": "python",
   "pygments_lexer": "ipython3",
   "version": "3.6.9"
  }
 },
 "nbformat": 4,
 "nbformat_minor": 4
}
