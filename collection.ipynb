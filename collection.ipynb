{
 "cells": [
  {
   "cell_type": "code",
   "execution_count": 1,
   "metadata": {},
   "outputs": [
    {
     "data": {
      "application/vnd.jupyter.widget-view+json": {
       "model_id": "423fafa8a11544f48e33e6c423c026ef",
       "version_major": 2,
       "version_minor": 0
      },
      "text/plain": [
       "Image(value=b'\\xff\\xd8\\xff\\xe0\\x00\\x10JFIF\\x00\\x01\\x01\\x00\\x00\\x01\\x00\\x01\\x00\\x00\\xff\\xdb\\x00C\\x00\\x02\\x01\\x0…"
      ]
     },
     "metadata": {},
     "output_type": "display_data"
    }
   ],
   "source": [
    "#カメラ画像の取得\n",
    "from jetcam.usb_camera import USBCamera\n",
    "import ipywidgets\n",
    "from IPython.display import display\n",
    "from jetcam.utils import bgr8_to_jpeg\n",
    "\n",
    "camera = USBCamera(width=224, height=224)\n",
    "image = camera.read()\n",
    "image_widget = ipywidgets.Image(format='jpeg')\n",
    "image_widget.value = bgr8_to_jpeg(image)\n",
    "display(image_widget)"
   ]
  },
  {
   "cell_type": "code",
   "execution_count": 2,
   "metadata": {},
   "outputs": [],
   "source": [
    "#カメラ画像の更新\n",
    "camera.running = True\n",
    "\n",
    "def update_image(change):\n",
    "    image = change['new']\n",
    "    image_widget.value = bgr8_to_jpeg(image)\n",
    "    \n",
    "camera.observe(update_image, names='value')"
   ]
  },
  {
   "cell_type": "code",
   "execution_count": 3,
   "metadata": {},
   "outputs": [
    {
     "name": "stdout",
     "output_type": "stream",
     "text": [
      "Directories not created becasue they already exist\n"
     ]
    }
   ],
   "source": [
    "#Datasetフォルダの作成\n",
    "import os\n",
    "\n",
    "one_dir = 'dataset/one'\n",
    "two_dir = 'dataset/two'\n",
    "three_dir = 'dataset/three'\n",
    "bg_dir='dataset/bg'\n",
    "\n",
    "# we have this \"try/except\" statement because these next functions can throw an error if the directories exist already\n",
    "try:\n",
    "    os.makedirs(bg_dir)\n",
    "    os.makedirs(one_dir)\n",
    "    os.makedirs(two_dir)\n",
    "    os.makedirs(three_dir)\n",
    "except FileExistsError:\n",
    "    print('Directories not created becasue they already exist')"
   ]
  },
  {
   "cell_type": "code",
   "execution_count": 4,
   "metadata": {},
   "outputs": [
    {
     "data": {
      "application/vnd.jupyter.widget-view+json": {
       "model_id": "0503569012734b45b5c150400a0a9b47",
       "version_major": 2,
       "version_minor": 0
      },
      "text/plain": [
       "HBox(children=(IntText(value=50, layout=Layout(height='64px', width='128px')), Button(description='oneを追加', la…"
      ]
     },
     "metadata": {},
     "output_type": "display_data"
    },
    {
     "data": {
      "application/vnd.jupyter.widget-view+json": {
       "model_id": "ae0c94bc705441d1b4da93277ce69196",
       "version_major": 2,
       "version_minor": 0
      },
      "text/plain": [
       "HBox(children=(IntText(value=50, layout=Layout(height='64px', width='128px')), Button(description='twoを追加', la…"
      ]
     },
     "metadata": {},
     "output_type": "display_data"
    },
    {
     "data": {
      "application/vnd.jupyter.widget-view+json": {
       "model_id": "9fecd8f5f2f647878b4db24861a99fb1",
       "version_major": 2,
       "version_minor": 0
      },
      "text/plain": [
       "HBox(children=(IntText(value=50, layout=Layout(height='64px', width='128px')), Button(description='threeを追加', …"
      ]
     },
     "metadata": {},
     "output_type": "display_data"
    },
    {
     "data": {
      "application/vnd.jupyter.widget-view+json": {
       "model_id": "2299e50dda28486ba2bd3af4e2a83c17",
       "version_major": 2,
       "version_minor": 0
      },
      "text/plain": [
       "HBox(children=(IntText(value=0, layout=Layout(height='64px', width='128px')), Button(description='backgroudを追加…"
      ]
     },
     "metadata": {},
     "output_type": "display_data"
    }
   ],
   "source": [
    "#登録ボタンの作成\n",
    "import ipywidgets.widgets as widgets\n",
    "\n",
    "button_layout = widgets.Layout(width='128px', height='64px')\n",
    "\n",
    "one_button = widgets.Button(description='oneを追加', layout=button_layout)\n",
    "two_button = widgets.Button(description='twoを追加', layout=button_layout)\n",
    "three_button = widgets.Button(description='threeを追加', layout=button_layout)\n",
    "bg_button = widgets.Button(description='backgroudを追加', layout=button_layout)\n",
    "\n",
    "one_count = widgets.IntText(layout=button_layout, value=len(os.listdir(one_dir)))\n",
    "two_count = widgets.IntText(layout=button_layout, value=len(os.listdir(two_dir)))\n",
    "three_count = widgets.IntText(layout=button_layout, value=len(os.listdir(three_dir)))\n",
    "bg_count = widgets.IntText(layout=button_layout, value=len(os.listdir(bg_dir)))\n",
    "\n",
    "display(widgets.HBox([one_count, one_button]))\n",
    "display(widgets.HBox([two_count, two_button]))\n",
    "display(widgets.HBox([three_count, three_button]))\n",
    "display(widgets.HBox([bg_count, bg_button]))"
   ]
  },
  {
   "cell_type": "code",
   "execution_count": 5,
   "metadata": {},
   "outputs": [],
   "source": [
    "#ボタンが押されたら画像を撮影して保存\n",
    "from uuid import uuid1\n",
    "\n",
    "def save_snapshot(directory):\n",
    "    image_path = os.path.join(directory, str(uuid1()) + '.jpg')\n",
    "    with open(image_path, 'wb') as f:\n",
    "        f.write(image_widget.value)\n",
    "\n",
    "def save_one():\n",
    "    global one_dir, one_count\n",
    "    save_snapshot(one_dir)\n",
    "    one_count.value = len(os.listdir(one_dir))\n",
    "    \n",
    "def save_two():\n",
    "    global two_dir, two_count\n",
    "    save_snapshot(two_dir)\n",
    "    two_count.value = len(os.listdir(two_dir))\n",
    "    \n",
    "def save_three():\n",
    "    global three_dir, three_count\n",
    "    save_snapshot(three_dir)\n",
    "    three_count.value = len(os.listdir(three_dir))\n",
    "\n",
    "def save_bg():\n",
    "    global bg_dir, bg_count\n",
    "    save_snapshot(bg_dir)\n",
    "    bg_count.value = len(os.listdir(bg_dir))\n",
    "\n",
    "# attach the callbacks, we use a 'lambda' function to ignore the\n",
    "# parameter that the on_click event would provide to our function\n",
    "# because we don't need it.\n",
    "one_button.on_click(lambda x: save_one())\n",
    "two_button.on_click(lambda x: save_two())\n",
    "three_button.on_click(lambda x: save_three())\n",
    "bg_button.on_click(lambda x: save_bg())"
   ]
  },
  {
   "cell_type": "code",
   "execution_count": 6,
   "metadata": {},
   "outputs": [
    {
     "data": {
      "application/vnd.jupyter.widget-view+json": {
       "model_id": "073eb0d52df54b2c8e5ae1264bcc96ad",
       "version_major": 2,
       "version_minor": 0
      },
      "text/plain": [
       "Image(value=b'\\xff\\xd8\\xff\\xe0\\x00\\x10JFIF\\x00\\x01\\x01\\x00\\x00\\x01\\x00\\x01\\x00\\x00\\xff\\xdb\\x00C\\x00\\x02\\x01\\x0…"
      ]
     },
     "metadata": {},
     "output_type": "display_data"
    },
    {
     "data": {
      "application/vnd.jupyter.widget-view+json": {
       "model_id": "1fc3a6dc172d49eb823905075708f3bb",
       "version_major": 2,
       "version_minor": 0
      },
      "text/plain": [
       "HBox(children=(IntText(value=50, layout=Layout(height='64px', width='128px')), Button(description='oneを追加', la…"
      ]
     },
     "metadata": {},
     "output_type": "display_data"
    },
    {
     "data": {
      "application/vnd.jupyter.widget-view+json": {
       "model_id": "d3e72fc968a64b3db0b2f6479de3c56b",
       "version_major": 2,
       "version_minor": 0
      },
      "text/plain": [
       "HBox(children=(IntText(value=50, layout=Layout(height='64px', width='128px')), Button(description='twoを追加', la…"
      ]
     },
     "metadata": {},
     "output_type": "display_data"
    },
    {
     "data": {
      "application/vnd.jupyter.widget-view+json": {
       "model_id": "fdaf71ab40c34b5aa659024f1f2bc203",
       "version_major": 2,
       "version_minor": 0
      },
      "text/plain": [
       "HBox(children=(IntText(value=50, layout=Layout(height='64px', width='128px')), Button(description='threeを追加', …"
      ]
     },
     "metadata": {},
     "output_type": "display_data"
    },
    {
     "data": {
      "application/vnd.jupyter.widget-view+json": {
       "model_id": "8261c7f8277040e39f74e477e444450c",
       "version_major": 2,
       "version_minor": 0
      },
      "text/plain": [
       "HBox(children=(IntText(value=0, layout=Layout(height='64px', width='128px')), Button(description='backgroudを追加…"
      ]
     },
     "metadata": {},
     "output_type": "display_data"
    }
   ],
   "source": [
    "#まとめて表示\n",
    "display(image_widget)\n",
    "display(widgets.HBox([one_count, one_button]))\n",
    "display(widgets.HBox([two_count, two_button]))\n",
    "display(widgets.HBox([three_count, three_button]))\n",
    "display(widgets.HBox([bg_count, bg_button]))"
   ]
  },
  {
   "cell_type": "code",
   "execution_count": null,
   "metadata": {},
   "outputs": [],
   "source": []
  }
 ],
 "metadata": {
  "kernelspec": {
   "display_name": "Python 3",
   "language": "python",
   "name": "python3"
  },
  "language_info": {
   "codemirror_mode": {
    "name": "ipython",
    "version": 3
   },
   "file_extension": ".py",
   "mimetype": "text/x-python",
   "name": "python",
   "nbconvert_exporter": "python",
   "pygments_lexer": "ipython3",
   "version": "3.6.9"
  }
 },
 "nbformat": 4,
 "nbformat_minor": 4
}
